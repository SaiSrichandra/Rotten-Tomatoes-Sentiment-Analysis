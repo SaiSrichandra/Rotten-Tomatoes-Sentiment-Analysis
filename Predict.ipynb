{
 "cells": [
  {
   "cell_type": "code",
   "execution_count": 4,
   "metadata": {},
   "outputs": [],
   "source": [
    "# Importing required packages\n",
    "# We are using the random class in NumPy package\n",
    "# The data is imported as Pandas DataFrame\n",
    "# The re package is used for Regex Tokenizer\n",
    "# We use the punctuation class in string package\n",
    "# To convert data into feature vectors CountVectorizer is used\n",
    "# The machine learning model is Logistic Regression\n",
    "import numpy as np\n",
    "import pandas as pd\n",
    "import re               \n",
    "import string           \n",
    "from sklearn.feature_extraction.text import CountVectorizer \n",
    "from sklearn.linear_model import LogisticRegression         "
   ]
  },
  {
   "cell_type": "code",
   "execution_count": 5,
   "metadata": {},
   "outputs": [
    {
     "data": {
      "text/html": [
       "<div>\n",
       "<style scoped>\n",
       "    .dataframe tbody tr th:only-of-type {\n",
       "        vertical-align: middle;\n",
       "    }\n",
       "\n",
       "    .dataframe tbody tr th {\n",
       "        vertical-align: top;\n",
       "    }\n",
       "\n",
       "    .dataframe thead th {\n",
       "        text-align: right;\n",
       "    }\n",
       "</style>\n",
       "<table border=\"1\" class=\"dataframe\">\n",
       "  <thead>\n",
       "    <tr style=\"text-align: right;\">\n",
       "      <th></th>\n",
       "      <th>PhraseId</th>\n",
       "      <th>SentenceId</th>\n",
       "      <th>Phrase</th>\n",
       "      <th>Sentiment</th>\n",
       "    </tr>\n",
       "  </thead>\n",
       "  <tbody>\n",
       "    <tr>\n",
       "      <th>0</th>\n",
       "      <td>1</td>\n",
       "      <td>1</td>\n",
       "      <td>A series of escapades demonstrating the adage ...</td>\n",
       "      <td>1</td>\n",
       "    </tr>\n",
       "    <tr>\n",
       "      <th>1</th>\n",
       "      <td>2</td>\n",
       "      <td>1</td>\n",
       "      <td>A series of escapades demonstrating the adage ...</td>\n",
       "      <td>2</td>\n",
       "    </tr>\n",
       "    <tr>\n",
       "      <th>2</th>\n",
       "      <td>3</td>\n",
       "      <td>1</td>\n",
       "      <td>A series</td>\n",
       "      <td>2</td>\n",
       "    </tr>\n",
       "    <tr>\n",
       "      <th>3</th>\n",
       "      <td>4</td>\n",
       "      <td>1</td>\n",
       "      <td>A</td>\n",
       "      <td>2</td>\n",
       "    </tr>\n",
       "    <tr>\n",
       "      <th>4</th>\n",
       "      <td>5</td>\n",
       "      <td>1</td>\n",
       "      <td>series</td>\n",
       "      <td>2</td>\n",
       "    </tr>\n",
       "  </tbody>\n",
       "</table>\n",
       "</div>"
      ],
      "text/plain": [
       "   PhraseId  SentenceId                                             Phrase  \\\n",
       "0         1           1  A series of escapades demonstrating the adage ...   \n",
       "1         2           1  A series of escapades demonstrating the adage ...   \n",
       "2         3           1                                           A series   \n",
       "3         4           1                                                  A   \n",
       "4         5           1                                             series   \n",
       "\n",
       "   Sentiment  \n",
       "0          1  \n",
       "1          2  \n",
       "2          2  \n",
       "3          2  \n",
       "4          2  "
      ]
     },
     "execution_count": 5,
     "metadata": {},
     "output_type": "execute_result"
    }
   ],
   "source": [
    "# Importing train data\n",
    "train = pd.read_csv('train.tsv', sep='\\t')\n",
    "train.head()"
   ]
  },
  {
   "cell_type": "code",
   "execution_count": 6,
   "metadata": {},
   "outputs": [
    {
     "name": "stdout",
     "output_type": "stream",
     "text": [
      "(140454, 4)\n",
      "(15606, 4)\n"
     ]
    }
   ],
   "source": [
    "# Splitting 90% data into Train data and remaining into Test data randomly \n",
    "sample     = np.random.choice(train.index, size = int(len(train)*0.9), replace = False)\n",
    "train_data = train.iloc[sample]\n",
    "test_data  = train.drop(sample)\n",
    "print(train_data.shape)\n",
    "print(test_data.shape)"
   ]
  },
  {
   "cell_type": "code",
   "execution_count": 7,
   "metadata": {},
   "outputs": [],
   "source": [
    "# Defining RegEx Tokenizer to split our data into individual words\n",
    "re_tok = re.compile(f'([{string.punctuation}“”¨«»®´·º½¾¿¡§£₤‘’])')\n",
    "def tokenize(s): return re_tok.sub(r' \\1 ', s).split()"
   ]
  },
  {
   "cell_type": "code",
   "execution_count": 8,
   "metadata": {},
   "outputs": [],
   "source": [
    "# Defining the vectorizer and using it to convert Train and Test data into feature vectors\n",
    "count_vec = CountVectorizer(tokenizer=tokenize)\n",
    "count_vec_train = count_vec.fit_transform(train_data['Phrase'])\n",
    "count_vec_test = count_vec.transform(test_data['Phrase'])"
   ]
  },
  {
   "cell_type": "code",
   "execution_count": 11,
   "metadata": {},
   "outputs": [],
   "source": [
    "# Training the Logistic Regression model on Train Data using the inbuilt sag solver\n",
    "LogReg = LogisticRegression(max_iter = 10000, solver = 'sag').fit(count_vec_train, train_data['Sentiment'])"
   ]
  },
  {
   "cell_type": "code",
   "execution_count": 12,
   "metadata": {},
   "outputs": [
    {
     "name": "stdout",
     "output_type": "stream",
     "text": [
      "The accuracy of the model is :  65.79520697167756 %\n"
     ]
    }
   ],
   "source": [
    "# Testing the accuracy of model using test data\n",
    "test_prediction = LogReg.predict(count_vec_test)\n",
    "acc = (test_prediction == test_data['Sentiment']).mean()\n",
    "print(\"The accuracy of the model is : \", acc*100, \"%\")"
   ]
  },
  {
   "cell_type": "code",
   "execution_count": 9,
   "metadata": {},
   "outputs": [],
   "source": [
    "# Comparing other solvers\n",
    "def compare(sol):\n",
    "    LogReg = LogisticRegression(max_iter = 10000, solver = sol).fit(count_vec_train, train_data['Sentiment'])\n",
    "    test_prediction = LogReg.predict(count_vec_test)\n",
    "    acc = (test_prediction == test_data['Sentiment']).mean()\n",
    "    print(\"The accuracy of \"+sol+\" solver is : \", acc*100, \"%\")"
   ]
  },
  {
   "cell_type": "code",
   "execution_count": 10,
   "metadata": {},
   "outputs": [
    {
     "name": "stdout",
     "output_type": "stream",
     "text": [
      "The accuracy of liblinear solver is :  64.68025118544149 %\n",
      "The accuracy of lbfgs solver is :  65.7759835960528 %\n",
      "The accuracy of newton-cg solver is :  65.78879917980264 %\n",
      "The accuracy of sag solver is :  65.79520697167756 %\n",
      "The accuracy of saga solver is :  65.78879917980264 %\n"
     ]
    }
   ],
   "source": [
    "solvers = ['liblinear', 'lbfgs', 'newton-cg', 'sag', 'saga']\n",
    "for s in solvers :\n",
    "    compare(s)"
   ]
  },
  {
   "cell_type": "code",
   "execution_count": null,
   "metadata": {},
   "outputs": [],
   "source": []
  }
 ],
 "metadata": {
  "kernelspec": {
   "display_name": "Python 3",
   "language": "python",
   "name": "python3"
  },
  "language_info": {
   "codemirror_mode": {
    "name": "ipython",
    "version": 3
   },
   "file_extension": ".py",
   "mimetype": "text/x-python",
   "name": "python",
   "nbconvert_exporter": "python",
   "pygments_lexer": "ipython3",
   "version": "3.7.7"
  }
 },
 "nbformat": 4,
 "nbformat_minor": 4
}
